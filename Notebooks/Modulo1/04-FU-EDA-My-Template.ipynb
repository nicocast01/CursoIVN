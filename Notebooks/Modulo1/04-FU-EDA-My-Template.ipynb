{
 "cells": [
  {
   "cell_type": "markdown",
   "metadata": {},
   "source": [
    "# Feature Undertanding - EDA (Plantilla) \n",
    "En el siguiente notebook, se mostrarán una plantilla con los pasos generales para un Feature Undertanding y Análisis Explorario de Datos"
   ]
  },
  {
   "cell_type": "markdown",
   "metadata": {},
   "source": [
    "## <span style=\"color:green\">El problema a resolver / Objetivos</span>\n",
    "\n",
    "\n",
    "\n",
    "* Formule la pregunta a responder y defina o establezca los objetivos generales y particulares del análisis.\n",
    "* ¿Por qué es importante? "
   ]
  },
  {
   "cell_type": "markdown",
   "metadata": {},
   "source": []
  },
  {
   "cell_type": "markdown",
   "metadata": {},
   "source": [
    "### Importar librerías"
   ]
  },
  {
   "cell_type": "code",
   "execution_count": null,
   "metadata": {},
   "outputs": [],
   "source": []
  },
  {
   "cell_type": "markdown",
   "metadata": {},
   "source": [
    "### Carga de datos"
   ]
  },
  {
   "cell_type": "code",
   "execution_count": null,
   "metadata": {},
   "outputs": [],
   "source": []
  },
  {
   "cell_type": "markdown",
   "metadata": {},
   "source": [
    " ## <span style=\"color:green\">Generalidades del dataset</span> "
   ]
  },
  {
   "cell_type": "markdown",
   "metadata": {},
   "source": [
    "### Número de variables y objetos en el dataset\n",
    "* Número de objetos\n",
    "* Número de variables\n",
    "* De existir una variable objetivo. ¿Cúal es?, ¿Es una variable real o categórica?, De ser una variable categórica, ¿Cuantas clases tiene? "
   ]
  },
  {
   "cell_type": "code",
   "execution_count": null,
   "metadata": {},
   "outputs": [],
   "source": []
  },
  {
   "cell_type": "markdown",
   "metadata": {},
   "source": [
    "## <span style=\"color:green\">Tipos de datos y sus características</span> "
   ]
  },
  {
   "cell_type": "markdown",
   "metadata": {},
   "source": [
    "### ¿Qué tipo de variables conforman el conjunto de datos y cúales son sus características?\n",
    "* ¿Son la variables categóricas?\n",
    "* ¿Son las variables ordinales o nominales?\n",
    "* ¿Son las variables numéricas continuas discretas o binarias?\n",
    "* ¿Estan la variables numericas en una escala similar?\n",
    "* ¿Cuántas variables de cada tipo de dato tenemos en el conjunto de datos?\n",
    "* Cardinalidad de variables categoricas: ¿Existen variables categóricas con alta cardinalidad?\n",
    "* ¿Hay variables categóricas con etiquetas raras? Se considera raro si está presente en menos del 5% de los datos."
   ]
  },
  {
   "cell_type": "code",
   "execution_count": null,
   "metadata": {},
   "outputs": [],
   "source": []
  },
  {
   "cell_type": "markdown",
   "metadata": {},
   "source": [
    "## <span style=\"color:green\">¿Existen valores  nulos o faltantes explicitos en el conjunto de datos?</span>\n",
    "* Qué variables contienen datos faltantes ?\n",
    "* De tener observaciones con valores nulos, ¿cuántas tenemos por cada variable?\n",
    "* ¿Cuántos valores nulos tenemos en total en el conjunto de datos?\n",
    "* ¿Cuál es la proporción de valores nulos por cada variable?\n",
    "* Visualice los valores nulos en todo el conjunto de datos\n",
    "* ¿Cuántas observaciones perdemos si eliminamos los datos faltantes?"
   ]
  },
  {
   "cell_type": "code",
   "execution_count": null,
   "metadata": {},
   "outputs": [],
   "source": []
  },
  {
   "cell_type": "markdown",
   "metadata": {},
   "source": [
    "## <span style=\"color:green\">Estadística Descriptiva</span>"
   ]
  },
  {
   "cell_type": "markdown",
   "metadata": {},
   "source": [
    "### Medidas de Tencia Central\n",
    "* Media\n",
    "* Mediana\n",
    "* Moda"
   ]
  },
  {
   "cell_type": "code",
   "execution_count": null,
   "metadata": {},
   "outputs": [],
   "source": []
  },
  {
   "cell_type": "markdown",
   "metadata": {},
   "source": [
    "### Medidas de Variabilidad\n",
    "* Valores máximo y mínimo\n",
    "* Rango\n",
    "* Varianza\n",
    "* Desviación estandar\n",
    "* Rango intercuartil"
   ]
  },
  {
   "cell_type": "code",
   "execution_count": null,
   "metadata": {},
   "outputs": [],
   "source": []
  },
  {
   "cell_type": "markdown",
   "metadata": {},
   "source": [
    "## <span style=\"color:green\">Visualización de la Distribución (Análisis Univariado)</span> \n",
    "* Conteos (tabulación de valores) y proporciones\n",
    "    * Variables numéricas\n",
    "    * Variables no numéricas\n",
    "    * Todas\n",
    "* ¿Cómo visualizar los conteos?\n",
    "* ¿Están asimétricas todas las variables numéricas?\n",
    "* ¿Se observan outliers?"
   ]
  },
  {
   "cell_type": "markdown",
   "metadata": {},
   "source": [
    "### Histogramas"
   ]
  },
  {
   "cell_type": "code",
   "execution_count": null,
   "metadata": {},
   "outputs": [],
   "source": []
  },
  {
   "cell_type": "markdown",
   "metadata": {},
   "source": [
    "### Bloxplots"
   ]
  },
  {
   "cell_type": "code",
   "execution_count": null,
   "metadata": {},
   "outputs": [],
   "source": []
  },
  {
   "cell_type": "markdown",
   "metadata": {},
   "source": [
    "### Gráficos de barras"
   ]
  },
  {
   "cell_type": "code",
   "execution_count": null,
   "metadata": {},
   "outputs": [],
   "source": []
  },
  {
   "cell_type": "markdown",
   "metadata": {},
   "source": [
    "### Distribuciones: PMFs, CDFs y PDFs\n",
    "* Funciones de probabilidad de masas (PMFs)\n",
    "* Funciones empirícas de probabilidad acumulada (ECDFs)\n",
    "* Comparación de distribuciones\n",
    "* Funciones de densidad de probabilidad"
   ]
  },
  {
   "cell_type": "code",
   "execution_count": null,
   "metadata": {},
   "outputs": [],
   "source": []
  },
  {
   "cell_type": "markdown",
   "metadata": {},
   "source": [
    "## <span style=\"color:green\">Interacciones</span> "
   ]
  },
  {
   "cell_type": "markdown",
   "metadata": {},
   "source": [
    "### Análisis Bivariado\n",
    "* Gráficos de dispersión\n",
    "* Gráficos de dispersión + índice de correlación\n",
    "* Gráficos de barras apiladas\n",
    "* Análisis de regresión simple"
   ]
  },
  {
   "cell_type": "code",
   "execution_count": null,
   "metadata": {},
   "outputs": [],
   "source": []
  },
  {
   "cell_type": "markdown",
   "metadata": {},
   "source": [
    "### Análisis multivariado\n",
    "* Boxplots con múltiple variables\n",
    "* Matriz de correlación\n",
    "* Gráficos de violín\n",
    "* Análisis de regresión múltiple"
   ]
  },
  {
   "cell_type": "code",
   "execution_count": null,
   "metadata": {},
   "outputs": [],
   "source": []
  },
  {
   "cell_type": "markdown",
   "metadata": {},
   "source": [
    "## <span style=\"color:green\">Sumarización</span> \n",
    "Extraiga las conclusiones más importantes del análisis realizado. Se sugiere escribir frases cortas.\n"
   ]
  },
  {
   "cell_type": "markdown",
   "metadata": {},
   "source": []
  }
 ],
 "metadata": {
  "language_info": {
   "name": "python"
  }
 },
 "nbformat": 4,
 "nbformat_minor": 2
}
