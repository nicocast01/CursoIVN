{
 "cells": [
  {
   "cell_type": "markdown",
   "metadata": {},
   "source": [
    "# En este Notebook aplicaremos las transformaciones de variables mas utilizadas"
   ]
  },
  {
   "cell_type": "code",
   "execution_count": null,
   "metadata": {},
   "outputs": [],
   "source": [
    "import numpy as np\n",
    "import pandas as pd\n",
    "\n",
    "\n",
    "import matplotlib.pyplot as plt\n",
    "import scipy.stats as stats\n",
    "\n",
    "import sys\n",
    "sys.path.append('../../src/visualization/')\n",
    "import diagnostic_functions\n"
   ]
  },
  {
   "cell_type": "code",
   "execution_count": null,
   "metadata": {},
   "outputs": [],
   "source": [
    "# Cargando datos Boston House\n",
    "data = pd.read_csv('../../datasets/raw/boston.csv')\n",
    "data.head()"
   ]
  },
  {
   "cell_type": "code",
   "execution_count": null,
   "metadata": {},
   "outputs": [],
   "source": [
    "# Graficamos los histogramas para inspeccionar las variables\n",
    "data.hist(bins=30, figsize=(12,12))\n",
    "plt.show()"
   ]
  },
  {
   "cell_type": "code",
   "execution_count": null,
   "metadata": {},
   "outputs": [],
   "source": [
    "# Graficamos la distribución original\n",
    "diagnostic_functions.diagnostic_plots1(data, 'LSTAT')"
   ]
  },
  {
   "cell_type": "markdown",
   "metadata": {},
   "source": [
    "### Tranformación logaritmica"
   ]
  },
  {
   "cell_type": "code",
   "execution_count": null,
   "metadata": {},
   "outputs": [],
   "source": [
    "# Hecemos una copia del dataframe donde almacenaremos las variables modificadas\n",
    "data_tf = data.copy()"
   ]
  },
  {
   "cell_type": "code",
   "execution_count": null,
   "metadata": {},
   "outputs": [],
   "source": [
    "# Aplicamos transformacióon logarítmica al conjunto de variables\n",
    "data_tf[['LSTAT', 'NOX', 'DIS', 'RM']] = np.log(\n",
    "    data[['LSTAT', 'NOX', 'DIS', 'RM']])"
   ]
  },
  {
   "cell_type": "code",
   "execution_count": null,
   "metadata": {},
   "outputs": [],
   "source": [
    "# Usamos la función de dignóstico para visualizar las variables transformadas\n",
    "\n",
    "diagnostic_functions.diagnostic_plots1(data_tf, 'LSTAT')"
   ]
  },
  {
   "cell_type": "markdown",
   "metadata": {},
   "source": [
    "### Transformación de potencia"
   ]
  },
  {
   "cell_type": "code",
   "execution_count": null,
   "metadata": {},
   "outputs": [],
   "source": [
    "# Hacemos una copia del dataframe\n",
    "\n",
    "data_tf = data.copy()"
   ]
  },
  {
   "cell_type": "code",
   "execution_count": null,
   "metadata": {},
   "outputs": [],
   "source": [
    "# Aplicamos una transformación de potencia (0.3) al cto. de variables\n",
    "\n",
    "data_tf[['LSTAT', 'NOX', 'DIS', 'RM']] = np.power(data[['LSTAT', 'NOX', 'DIS', 'RM']], .3)"
   ]
  },
  {
   "cell_type": "code",
   "execution_count": null,
   "metadata": {},
   "outputs": [],
   "source": [
    "# Visualizamos la trasformación\n",
    "\n",
    "diagnostic_functions.diagnostic_plots1(data_tf, 'LSTAT')"
   ]
  },
  {
   "cell_type": "markdown",
   "metadata": {},
   "source": [
    "### Transformación Box-Cox usando scipy"
   ]
  },
  {
   "cell_type": "code",
   "execution_count": null,
   "metadata": {},
   "outputs": [],
   "source": [
    "# Hecemos una copia del dataframe donde almacenaremos las variables modificadas\n",
    "\n",
    "data_tf = data.copy()"
   ]
  },
  {
   "cell_type": "code",
   "execution_count": null,
   "metadata": {},
   "outputs": [],
   "source": [
    "# Aplicamos transformación Box-Cox a la variable LSTAT\n",
    "data_tf['LSTAT'], param = stats.boxcox(data['LSTAT']) \n",
    "\n",
    "# IMprimimos el óptimo lambda encontrado para LSTAT\n",
    "print('Optimal λ: ', param)\n",
    "\n",
    "# visualizamos la variable transformada\n",
    "diagnostic_functions.diagnostic_plots1(data_tf, 'LSTAT')"
   ]
  },
  {
   "cell_type": "markdown",
   "metadata": {},
   "source": [
    "### Transformación Yeo-Johnson con scipy"
   ]
  },
  {
   "cell_type": "code",
   "execution_count": null,
   "metadata": {},
   "outputs": [],
   "source": [
    "# Hacemos una copia del dataframe\n",
    "\n",
    "data_tf = data.copy()"
   ]
  },
  {
   "cell_type": "code",
   "execution_count": null,
   "metadata": {},
   "outputs": [],
   "source": [
    "# Aplicamos la transformación Yeo_johnson a la variable LSTAT\n",
    "\n",
    "data_tf['LSTAT'], param = stats.yeojohnson(data['LSTAT']) \n",
    "\n",
    "# Imprimimos el óptimo lambda seleccionado para esta variable\n",
    "print('Optimal λ: ', param)\n",
    "\n",
    "# visualizamos la transformación\n",
    "diagnostic_functions.diagnostic_plots1(data_tf, 'LSTAT')"
   ]
  },
  {
   "cell_type": "markdown",
   "metadata": {},
   "source": [
    "### Transformación recíproica con NumPy\n"
   ]
  },
  {
   "cell_type": "code",
   "execution_count": null,
   "metadata": {},
   "outputs": [],
   "source": [
    "data_tf = data.copy()"
   ]
  },
  {
   "cell_type": "code",
   "execution_count": null,
   "metadata": {},
   "outputs": [],
   "source": [
    "# Se aplica el recíproco al conjunto de variables\n",
    "\n",
    "data_tf[['LSTAT', 'NOX']] = np.reciprocal(data_tf[['LSTAT', 'NOX']])\n"
   ]
  },
  {
   "cell_type": "code",
   "execution_count": null,
   "metadata": {},
   "outputs": [],
   "source": [
    "# visualizamos la transformación\n",
    "diagnostic_functions.diagnostic_plots1(data_tf, 'LSTAT')"
   ]
  },
  {
   "cell_type": "markdown",
   "metadata": {},
   "source": [
    "### Transformación arcoseno"
   ]
  },
  {
   "cell_type": "code",
   "execution_count": null,
   "metadata": {},
   "outputs": [],
   "source": [
    "data_tf = data.copy()"
   ]
  },
  {
   "cell_type": "code",
   "execution_count": null,
   "metadata": {},
   "outputs": [],
   "source": [
    "\n",
    "# Transforma los datos\n",
    "\n",
    "#data_tf[['LSTAT']] = np.arcsin(np.sqrt(data_tf[['LSTAT']]))\n",
    "data_tf.LSTAT.isnull\n",
    "\n"
   ]
  },
  {
   "cell_type": "code",
   "execution_count": null,
   "metadata": {},
   "outputs": [],
   "source": [
    "# visualizamos la transformación\n",
    "diagnostic_functions.diagnostic_plots1(data_tf, 'LSTAT')"
   ]
  },
  {
   "cell_type": "markdown",
   "metadata": {},
   "source": [
    "### Implementar las transformaciones anteriores utilizando scikit-learn"
   ]
  },
  {
   "cell_type": "markdown",
   "metadata": {},
   "source": []
  }
 ],
 "metadata": {
  "interpreter": {
   "hash": "190668de10e562b941b9fa78ebe98ef0bf1d742fd52dd3ccdc64dbf44346f9f3"
  },
  "kernelspec": {
   "display_name": "Python 3.10.4 ('venv': venv)",
   "language": "python",
   "name": "python3"
  },
  "language_info": {
   "codemirror_mode": {
    "name": "ipython",
    "version": 3
   },
   "file_extension": ".py",
   "mimetype": "text/x-python",
   "name": "python",
   "nbconvert_exporter": "python",
   "pygments_lexer": "ipython3",
   "version": "3.12.3"
  },
  "orig_nbformat": 4
 },
 "nbformat": 4,
 "nbformat_minor": 2
}
